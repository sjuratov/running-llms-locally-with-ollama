{
 "cells": [
  {
   "cell_type": "code",
   "execution_count": 3,
   "metadata": {},
   "outputs": [],
   "source": [
    "from ollama import chat\n",
    "from ollama import ChatResponse\n",
    "\n",
    "def inference(model, messages):\n",
    "  response: ChatResponse = chat(model=model, messages=[\n",
    "    {\n",
    "      'role': 'user',\n",
    "      'content': messages,\n",
    "    },\n",
    "  ])\n",
    "  return response"
   ]
  },
  {
   "cell_type": "code",
   "execution_count": 4,
   "metadata": {},
   "outputs": [],
   "source": [
    "response = inference('phi3.5', 'Why is sea blue?')"
   ]
  },
  {
   "cell_type": "code",
   "execution_count": 5,
   "metadata": {},
   "outputs": [
    {
     "name": "stdout",
     "output_type": "stream",
     "text": [
      "The color of the ocean, often perceived as a deep and calming shade of blue or turquoise-blue, has several reasons rooted in physics, biology, and human perception. Here's an explanation touching upon these aspects:\n",
      "\n",
      "1. **Light Absorption and Scattering**: Water absorbs colors at the red end of the spectrum more quickly than blue light; hence when sunlight penetrates deep into seawater where there are no other distractions like land, plants or sediments present to change its coloration by reflective means such as bubbles and foam (which often have lighter hues), we see water absorbing reds while blue light is scattered back out of the body of water. This selectivity in transmission leads us naturally towards perceiving oceanic waters predominantly within a cooler spectrum, which includes blues to cyan shades.\n",
      "\n",
      "2. **Depth and Light Penetration**: The depth at sea can also influence its color perception; deeper parts with less light penetrating are often dark blue or blackish because there's not enough scattering of sunlight back out, while shallower waters will reflect more surface reflections along the horizon which contribute to a paler hue.\n",
      "\n",
      "3. **Biological Factors**: Phytoplankton and other marine organisms can give coloration variations; for instance phytoplankton absorbs red wavelengths, contributing further towards blue colors underwater during daylight hours when these microscopic plants are active photosynthesizing.\n",
      "\n",
      "4. **Human Perception**: The way our eyes process light also plays a role in perceiving the color of sea water; humans may be conditioned to associate large expanses like oceans with blue as it's often how we experience them under typical daylight conditions due, again, mostly absorption and scattering effects.\n",
      "\n",
      "5. **Atmospheric Interference**: The atmosphere also filters sunlight before reaching the ocean; this filtering effect is most noticeable during different times of a clear sky which further accentuates certain colors visible at sea level (like blue) while reducing others, like reds and yellows that tend to get scattered by particles in air.\n",
      "\n",
      "6. **Cultural Influence**: There's also an element where our cultural experiences with large bodies of water may influence color perception; for instance, many cultures have associated the sea as a source of life-giving properties (often symbolized through depictions in art and literature) which are frequently rendered with blue pigments.\n",
      "\n",
      "So while there's not one singular answer to why seas appear predominantly \"blue,\" it’s actually an interplay between light physics, the biology within our oceans, depth variations of sea water bodies (like waves), and even human cultural associations that guide this common perception.\n"
     ]
    }
   ],
   "source": [
    "#print(response['message']['content'])\n",
    "print(response.message.content)"
   ]
  }
 ],
 "metadata": {
  "kernelspec": {
   "display_name": ".venv",
   "language": "python",
   "name": "python3"
  },
  "language_info": {
   "codemirror_mode": {
    "name": "ipython",
    "version": 3
   },
   "file_extension": ".py",
   "mimetype": "text/x-python",
   "name": "python",
   "nbconvert_exporter": "python",
   "pygments_lexer": "ipython3",
   "version": "3.10.15"
  }
 },
 "nbformat": 4,
 "nbformat_minor": 2
}
